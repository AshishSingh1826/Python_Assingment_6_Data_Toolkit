{
 "cells": [
  {
   "cell_type": "code",
   "execution_count": 1,
   "id": "49361ffb-4b21-42b6-8dd7-1414f46a7815",
   "metadata": {},
   "outputs": [],
   "source": [
    "#1. Explain the purpose and advantages of NumPy in scientific computing and data analysis. How does it enhance Python's capabilities for numerical \n",
    "# operations?"
   ]
  },
  {
   "cell_type": "code",
   "execution_count": 3,
   "id": "a0f9d127-00eb-49df-9206-64f72b7cdd48",
   "metadata": {},
   "outputs": [],
   "source": [
    "# Purpose and Advantages:\n",
    "\n",
    "# 1.Efficient Numerical Operations: NumPy's arrays are optimized for numerical computations, offering a vast array of functions and operations \n",
    "# for performing mathematical operations on arrays, such as element-wise addition, subtraction, multiplication, division, and more. \n",
    "\n",
    "# 2.Broad Range of Functions: NumPy provides a comprehensive set of mathematical functions, including trigonometric functions, logarithmic \n",
    "# functions, exponentials, and statistical functions.\n",
    "\n",
    "# 3.Memory Efficiency: NumPy's arrays are stored in contiguous memory blocks, improving memory access patterns and reducing memory overhead \n",
    "# compared to Python lists.\n",
    "\n",
    "# How NumPy Enhances Python's Capabilities:\n",
    "\n",
    "# Speed and Performance: NumPy's optimized array operations and efficient memory management significantly improve the speed of numerical \n",
    "# computations compared to Python's built-in data structures.\n",
    "\n",
    "# Concise and Readable Code: NumPy's array-based syntax and vectorized operations allow for writing concise and readable code, making it easier \n",
    "# to express mathematical formulas and algorithms.\n",
    "\n",
    "# Integration with Scientific Computing Ecosystem: NumPy's integration with other scientific Python libraries enables a powerful and versatile \n",
    "# environment for data analysis, machine learning, and scientific research."
   ]
  },
  {
   "cell_type": "code",
   "execution_count": 5,
   "id": "ae85b5ec-c78f-4f6c-a7cf-87438092f13e",
   "metadata": {},
   "outputs": [],
   "source": [
    "# 2. Compare and contrast np.mean() and np.average() functions in NumPy. When would you use one over the\n",
    "# other?"
   ]
  },
  {
   "cell_type": "code",
   "execution_count": 7,
   "id": "8d1a8281-c1ce-4b6d-b5e4-21de90ee5d04",
   "metadata": {},
   "outputs": [],
   "source": [
    "# np.mean():\n",
    "# Simple mean: Calculates the arithmetic mean of an array, which is the sum of all elements divided by the number of elements.\n",
    "# Weights not supported: Doesn't allow for specifying weights for individual elements.\n",
    "\n",
    "# np.average():\n",
    "# Weighted mean: Can calculate the weighted average of an array, where each element is multiplied by its corresponding weight before summing and \n",
    "# dividing by the sum of weights.Default weights: If no weights are provided, it defaults to equal weights for all elements, making it equivalent \n",
    "# to np.mean().\n",
    "\n",
    "# When to use which:\n",
    "# np.mean(): Use when you want to calculate the simple arithmetic mean of an array and don't need to assign weights to individual elements.\n",
    "# np.average(): Use when you want to calculate a weighted average, where some elements should contribute more or less to the overall average.\n",
    "# This is common in statistics and data analysis when dealing with data that has different levels of importance or uncertainty."
   ]
  },
  {
   "cell_type": "code",
   "execution_count": 9,
   "id": "61ae95ad-5547-4d0e-8f83-17665de7d338",
   "metadata": {},
   "outputs": [],
   "source": [
    "# 3. Describe the methods for reversing a NumPy array along different axes. Provide examples for 1D and 2D\n",
    "# arrays."
   ]
  },
  {
   "cell_type": "code",
   "execution_count": 11,
   "id": "77fd24ae-1615-4be5-9863-d77e01759ea9",
   "metadata": {},
   "outputs": [
    {
     "name": "stdout",
     "output_type": "stream",
     "text": [
      "[5 4 3 2 1]\n"
     ]
    }
   ],
   "source": [
    "# NumPy provides the flip() function to reverse an array along specified axes.\n",
    "\n",
    "# for 1-D array\n",
    "import numpy as np\n",
    "\n",
    "arr1d = np.array([1, 2, 3, 4, 5])\n",
    "reversed_arr1d = np.flip(arr1d)\n",
    "print(reversed_arr1d)\n",
    "\n",
    "# Explanation:\n",
    "# In a 1D array, np.flip() simply reverses the order of the elements."
   ]
  },
  {
   "cell_type": "code",
   "execution_count": 13,
   "id": "3844130a-68b5-4448-bd56-9e539b82bb68",
   "metadata": {},
   "outputs": [
    {
     "name": "stdout",
     "output_type": "stream",
     "text": [
      "[[4 5 6]\n",
      " [1 2 3]]\n"
     ]
    }
   ],
   "source": [
    "# for 2-D array\n",
    "arr2d = np.array([[1, 2, 3],\n",
    "                 [4, 5, 6]])\n",
    "\n",
    "# Reverse along the first axis (rows)\n",
    "reversed_rows = np.flip(arr2d, axis=0)\n",
    "print(reversed_rows) "
   ]
  },
  {
   "cell_type": "code",
   "execution_count": 15,
   "id": "09e77fc0-cbb6-4caf-9fc5-8968c37b00f7",
   "metadata": {},
   "outputs": [
    {
     "name": "stdout",
     "output_type": "stream",
     "text": [
      "[[3 2 1]\n",
      " [6 5 4]]\n"
     ]
    }
   ],
   "source": [
    "# Reverse along the second axis (columns)\n",
    "reversed_cols = np.flip(arr2d, axis=1)\n",
    "print(reversed_cols)"
   ]
  },
  {
   "cell_type": "code",
   "execution_count": 17,
   "id": "1db8b392-dffd-488a-b447-f4f37cf288df",
   "metadata": {},
   "outputs": [
    {
     "name": "stdout",
     "output_type": "stream",
     "text": [
      "[[6 5 4]\n",
      " [3 2 1]]\n"
     ]
    }
   ],
   "source": [
    "# Reverse along both axes\n",
    "reversed_both = np.flip(arr2d)\n",
    "print(reversed_both)"
   ]
  },
  {
   "cell_type": "code",
   "execution_count": 19,
   "id": "a4b0b61e-3f70-4993-a32a-7a5bccf1daa4",
   "metadata": {},
   "outputs": [],
   "source": [
    "# Explanation:\n",
    "# In a 2D array:\n",
    "# axis=0 reverses the rows, so the first row becomes the last and vice versa.\n",
    "# axis=1 reverses the columns, so the first column becomes the last and vice versa.\n",
    "# If axis is not specified (or None), both rows and columns are reversed."
   ]
  },
  {
   "cell_type": "code",
   "execution_count": 21,
   "id": "664b9630-ac88-4845-b823-85c8433aba15",
   "metadata": {},
   "outputs": [],
   "source": [
    "# 4. How can you determine the data type of elements in a NumPy array? Discuss the importance of data types\n",
    "# in memory management and performance."
   ]
  },
  {
   "cell_type": "code",
   "execution_count": 23,
   "id": "b3b782ff-b16e-4e82-aae7-729bd15fd77e",
   "metadata": {},
   "outputs": [],
   "source": [
    "# NumPy provides the dtype attribute to access the data type of elements in an array. This attribute returns a numpy.dtype object that represents \n",
    "# the data type.\n",
    "\n",
    "# Here's an example:"
   ]
  },
  {
   "cell_type": "code",
   "execution_count": 25,
   "id": "8a95480c-8f83-49db-9c67-cc468045f4de",
   "metadata": {},
   "outputs": [
    {
     "name": "stdout",
     "output_type": "stream",
     "text": [
      "int32\n"
     ]
    }
   ],
   "source": [
    "arr = np.array([1, 2, 3, 4])\n",
    "print(arr.dtype)"
   ]
  },
  {
   "cell_type": "code",
   "execution_count": 27,
   "id": "e47fa528-052b-4923-a4af-1c6d9f1ab8c3",
   "metadata": {},
   "outputs": [],
   "source": [
    "# Importance of Data Types in Memory Management and Performance\n",
    "\n",
    "# Data types play a crucial role in memory management and performance in NumPy arrays:\n",
    "\n",
    "# Memory Management:\n",
    "# Efficient Storage: NumPy arrays are stored in contiguous memory blocks, and the data type determines the size of each element. Choosing the \n",
    "# appropriate data type can significantly reduce memory usage, especially for large datasets.\n",
    "\n",
    "# Data Integrity: Using the correct data type ensures that data is stored and interpreted correctly. For example, storing integer values in a \n",
    "# floating-point data type might lead to precision errors.\n",
    "    \n",
    "# Performance:\n",
    "# Optimized Operations: NumPy's operations are often optimized for specific data types. Using the correct data type can result in faster \n",
    "# computations.\n",
    "\n",
    "# Memory Access Patterns: The data type affects how elements are accessed in memory. Using a data type that aligns well with the hardware's \n",
    "# memory architecture can improve performance."
   ]
  },
  {
   "cell_type": "code",
   "execution_count": 29,
   "id": "cfcee977-f2ff-4fe9-b380-02efad155741",
   "metadata": {},
   "outputs": [],
   "source": [
    "# 5. Define ndarrays in NumPy and explain their key features. How do they differ from standard Python lists?"
   ]
  },
  {
   "cell_type": "code",
   "execution_count": 31,
   "id": "f8d183b5-dd4b-4a7d-b6cc-15d2a8bc416e",
   "metadata": {},
   "outputs": [],
   "source": [
    "# NumPy ndarrays (N-dimensional arrays) are the fundamental data structure in NumPy. They are multidimensional arrays of homogeneous data type, \n",
    "# optimized for numerical operations. This means all elements in an ndarray must be of the same data type (e.g., int, float, bool).\n",
    "\n",
    "# Key Features:\n",
    "# Homogeneous Data Type: All elements in an ndarray must be of the same data type, ensuring efficient memory layout and optimized operations.\n",
    "\n",
    "# Multidimensional: ndarrays can have any number of dimensions, from 0D (scalar) to higher-dimensional arrays like matrices and tensors.\n",
    "\n",
    "# Optimized Operations: NumPy provides a vast array of functions and operations that are highly optimized for ndarrays, allowing for efficient \n",
    "# numerical computations on large datasets.\n",
    "\n",
    "# Indexing and Slicing: Powerful indexing and slicing mechanisms enable easy access to and manipulation of elements within ndarrays.\n",
    "\n",
    "\n",
    "\n",
    "# Differences from Standard Python Lists:\n",
    "# Homogeneity: Python lists can contain elements of different data types, while ndarrays require all elements to be of the same type.\n",
    "\n",
    "# Performance: ndarrays are significantly faster for numerical operations than Python lists, especially for large datasets, due to their \n",
    "# optimized memory layout and vectorized operations.\n",
    "\n",
    "# Fixed Size: Python lists can be dynamically resized, while ndarrays have a fixed size."
   ]
  },
  {
   "cell_type": "code",
   "execution_count": 33,
   "id": "56b2d885-22a9-45ea-9a8f-5569c8ea5998",
   "metadata": {},
   "outputs": [],
   "source": [
    "# 6. Analyze the performance benefits of NumPy arrays over Python lists for large-scale numerical operations"
   ]
  },
  {
   "cell_type": "code",
   "execution_count": 35,
   "id": "495178bf-4df0-47b6-9d10-a20331b22f2d",
   "metadata": {},
   "outputs": [],
   "source": [
    "# NumPy arrays offer significant performance advantages over Python lists when dealing with large-scale numerical operations. This is primarily due \n",
    "# to the following factors:\n",
    "# 1. Homogeneous Data Type: NumPy arrays store elements of the same data type in contiguous memory blocks, allowing for more efficient memory \n",
    "# access and arithmetic operations.\n",
    "\n",
    "# 2. Fixed Size: NumPy arrays have a fixed size, allowing for efficient memory allocation and deallocation. This avoids the overhead of dynamic \n",
    "# resizing that can occur with Python lists.\n",
    "\n",
    "# 3. C-Based Implementation: NumPy is implemented in C, providing direct access to low-level memory operations and system calls. This enables it to \n",
    "# perform computations more efficiently than Python's interpreted code."
   ]
  },
  {
   "cell_type": "code",
   "execution_count": 37,
   "id": "ba9c3acd-f775-4fe9-8585-60b9abb3e788",
   "metadata": {},
   "outputs": [],
   "source": [
    "# 7. Compare vstack() and hstack() functions in NumPy. Provide examples demonstrating their usage and\n",
    "# output."
   ]
  },
  {
   "cell_type": "code",
   "execution_count": 39,
   "id": "2bb620e1-bb4e-4364-8a29-f738a0789ae8",
   "metadata": {},
   "outputs": [],
   "source": [
    "# Both vstack() and hstack() are functions used to stack NumPy arrays vertically or horizontally, respectively."
   ]
  },
  {
   "cell_type": "code",
   "execution_count": 41,
   "id": "1e807972-64f4-441e-bfbb-2d7c012a307f",
   "metadata": {},
   "outputs": [
    {
     "name": "stdout",
     "output_type": "stream",
     "text": [
      "[[1 2]\n",
      " [3 4]\n",
      " [5 6]\n",
      " [7 8]]\n"
     ]
    }
   ],
   "source": [
    "# vstack(): Vertical Stacking\n",
    "# Purpose: Stacks arrays vertically, meaning the arrays are stacked one on top of another.\n",
    "# Requirements: The arrays must have the same number of columns.\n",
    "\n",
    "# Example:\n",
    "array1 = np.array([[1, 2],\n",
    "                  [3, 4]])\n",
    "array2 = np.array([[5, 6],\n",
    "                  [7, 8]])\n",
    "\n",
    "stacked_array = np.vstack((array1, array2))\n",
    "print(stacked_array)"
   ]
  },
  {
   "cell_type": "code",
   "execution_count": 43,
   "id": "b17fee9b-a4fc-44ca-8bed-6d1cbf880c89",
   "metadata": {},
   "outputs": [
    {
     "name": "stdout",
     "output_type": "stream",
     "text": [
      "[[1 2 5 6]\n",
      " [3 4 7 8]]\n"
     ]
    }
   ],
   "source": [
    "# hstack(): Horizontal Stacking\n",
    "# Purpose: Stacks arrays horizontally, meaning the arrays are stacked side by side.\n",
    "# Requirements: The arrays must have the same number of rows.\n",
    "\n",
    "# Example:\n",
    "array1 = np.array([[1, 2],\n",
    "                  [3, 4]])\n",
    "array2 = np.array([[5, 6],\n",
    "                  [7, 8]])\n",
    "\n",
    "stacked_array = np.hstack((array1, array2))\n",
    "print(stacked_array)"
   ]
  },
  {
   "cell_type": "code",
   "execution_count": 45,
   "id": "2a9f8b28-5855-412f-964d-f767e5279792",
   "metadata": {},
   "outputs": [],
   "source": [
    "# 8. Explain the differences between fliplr() and flipud() methods in NumPy, including their effects on various\n",
    "# array dimensions."
   ]
  },
  {
   "cell_type": "code",
   "execution_count": 47,
   "id": "4ff29839-3df7-4717-91d4-6e24de35700b",
   "metadata": {},
   "outputs": [],
   "source": [
    "# Both fliplr() and flipud() are functions used to flip NumPy arrays along specific axes:"
   ]
  },
  {
   "cell_type": "code",
   "execution_count": 49,
   "id": "fdc6f57e-7875-4fdb-ad39-55983bb413b1",
   "metadata": {},
   "outputs": [
    {
     "name": "stdout",
     "output_type": "stream",
     "text": [
      "[[3 2 1]\n",
      " [6 5 4]]\n"
     ]
    }
   ],
   "source": [
    "# fliplr(): Flip Left-Right\n",
    "# Purpose: Flips the array along the left-right axis (the second axis in a 2D array).\n",
    "# Effect: Reverses the order of columns in a 2D array.\n",
    "\n",
    "# Example:\n",
    "array = np.array([[1, 2, 3],\n",
    "                 [4, 5, 6]])\n",
    "\n",
    "flipped_array = np.fliplr(array)\n",
    "print(flipped_array)"
   ]
  },
  {
   "cell_type": "code",
   "execution_count": 51,
   "id": "0c06f3cb-9637-457d-be80-2153456add4a",
   "metadata": {},
   "outputs": [
    {
     "name": "stdout",
     "output_type": "stream",
     "text": [
      "[[4 5 6]\n",
      " [1 2 3]]\n"
     ]
    }
   ],
   "source": [
    "# flipud(): Flip Up-Down\n",
    "# Purpose: Flips the array along the up-down axis (the first axis in a 2D array).\n",
    "# Effect: Reverses the order of rows in a 2D array.\n",
    "\n",
    "# Example:\n",
    "array = np.array([[1, 2, 3],\n",
    "                 [4, 5, 6]])\n",
    "\n",
    "flipped_array = np.flipud(array)\n",
    "print(flipped_array)"
   ]
  },
  {
   "cell_type": "code",
   "execution_count": 53,
   "id": "1c8e035d-3fce-4fbe-b907-5e007f94d729",
   "metadata": {},
   "outputs": [],
   "source": [
    "# 9. Discuss the functionality of the array_split() method in NumPy. How does it handle uneven splits?"
   ]
  },
  {
   "cell_type": "code",
   "execution_count": 57,
   "id": "eb11799d-303f-449a-b525-e06743c7a15c",
   "metadata": {},
   "outputs": [],
   "source": [
    "# The array_split() function in NumPy is used to split an array into a specified number of sub-arrays. The splitting is done along the first axis \n",
    "# (rows) by default.\n",
    "# Syntax: np.array_split(ary, sections, axis=0), where ary: The array to be split, sections: The number of sub-arrays to create, axis: The axis along which to split the array (default is 0)."
   ]
  },
  {
   "cell_type": "code",
   "execution_count": 59,
   "id": "005fd90a-f8b0-4c30-a7ec-0e677ea2b8d8",
   "metadata": {},
   "outputs": [
    {
     "name": "stdout",
     "output_type": "stream",
     "text": [
      "[array([0, 1, 2, 3]), array([4, 5, 6]), array([7, 8, 9])]\n"
     ]
    }
   ],
   "source": [
    "# Example:\n",
    "arr = np.arange(10)\n",
    "split_arr = np.array_split(arr, 3)\n",
    "print(split_arr)"
   ]
  },
  {
   "cell_type": "code",
   "execution_count": 61,
   "id": "acc854ea-409c-4ea5-9750-72f9f0c9a458",
   "metadata": {},
   "outputs": [],
   "source": [
    "# Handling Uneven Splits:\n",
    "# If the number of elements in the array is not evenly divisible by the number of sections, the array_split() function will distribute the extra \n",
    "# elements to the first few sub-arrays."
   ]
  },
  {
   "cell_type": "code",
   "execution_count": 63,
   "id": "412c8f15-5c68-4b1f-8c19-354bdf4f1927",
   "metadata": {},
   "outputs": [
    {
     "name": "stdout",
     "output_type": "stream",
     "text": [
      "[array([0, 1, 2, 3]), array([4, 5, 6, 7]), array([ 8,  9, 10])]\n"
     ]
    }
   ],
   "source": [
    "# Example:\n",
    "arr = np.arange(11)\n",
    "split_arr = np.array_split(arr, 3)\n",
    "print(split_arr)"
   ]
  },
  {
   "cell_type": "code",
   "execution_count": 65,
   "id": "30277b5e-5b97-4b28-a521-65c0f0a8f6f0",
   "metadata": {},
   "outputs": [],
   "source": [
    "# 10. Explain the concepts of vectorization and broadcasting in NumPy. How do they contribute to efficient array\n",
    "# operations?"
   ]
  },
  {
   "cell_type": "code",
   "execution_count": 67,
   "id": "463037ed-1f23-41f4-8d16-eb62ddc95d9c",
   "metadata": {},
   "outputs": [],
   "source": [
    "# Vectorization and broadcasting are two fundamental concepts in NumPy that significantly contribute to efficient array operations.\n",
    "\n",
    "# Vectorization:\n",
    "# Vectorization refers to the ability to perform operations on entire arrays or matrices element-wise without the need for explicit loops. This \n",
    "# is achieved by NumPy's optimized underlying implementations, which can leverage SIMD instructions and other hardware-specific optimizations.\n",
    "\n",
    "# Benefits of Vectorization:\n",
    "\n",
    "# Speed: Vectorized operations are typically much faster than equivalent Python loops, especially for large arrays.\n",
    "# Readability: Vectorized code is often more concise and easier to understand than equivalent loop-based code.\n",
    "# Memory Efficiency: Vectorized operations can often be more memory efficient than loop-based approaches, especially when dealing with large \n",
    "# arrays."
   ]
  },
  {
   "cell_type": "code",
   "execution_count": 69,
   "id": "3352f904-cba5-49a2-9265-56941c8be99d",
   "metadata": {},
   "outputs": [
    {
     "name": "stdout",
     "output_type": "stream",
     "text": [
      "[5 7 9]\n"
     ]
    }
   ],
   "source": [
    "# Example:\n",
    "x = np.array([1, 2, 3])\n",
    "y = np.array([4, 5, 6])\n",
    "\n",
    "# Vectorized addition\n",
    "result = x + y\n",
    "print(result)"
   ]
  },
  {
   "cell_type": "code",
   "execution_count": 71,
   "id": "837f0941-1d26-4d39-ba6a-fead58fe9dcd",
   "metadata": {},
   "outputs": [],
   "source": [
    "# Broadcasting\n",
    "\n",
    "# Broadcasting is a mechanism in NumPy that allows arrays of different shapes to be compatible for element-wise operations. NumPy automatically \n",
    "# stretches the smaller array to match the shape of the larger array, as long as their shapes are compatible.\n",
    "\n",
    "# Rules for Broadcasting:\n",
    "\n",
    "# Shape Compatibility: The arrays must have compatible shapes. This means that the trailing dimensions of the arrays must be equal, or one of \n",
    "# them must be 1.\n",
    "\n",
    "# Stretching: If the dimensions of the arrays are not equal, the smaller array is stretched to match the larger array by replicating elements \n",
    "# along the missing dimensions."
   ]
  },
  {
   "cell_type": "code",
   "execution_count": 73,
   "id": "ec22b830-237f-4088-bcb3-e192fa77d102",
   "metadata": {},
   "outputs": [
    {
     "name": "stdout",
     "output_type": "stream",
     "text": [
      "[[ 4  8 12]\n",
      " [ 5 10 15]\n",
      " [ 6 12 18]]\n"
     ]
    }
   ],
   "source": [
    "# Example:\n",
    "x = np.array([1, 2, 3])\n",
    "y = np.array([[4],\n",
    "              [5],\n",
    "              [6]])\n",
    "\n",
    "# Broadcasting\n",
    "result = x * y\n",
    "print(result)"
   ]
  },
  {
   "cell_type": "code",
   "execution_count": 75,
   "id": "91ddf732-1f5d-41e9-9b0c-6419f79a0000",
   "metadata": {},
   "outputs": [],
   "source": [
    "# Both vectorization and broadcasting contribute to efficient array operations in NumPy by:\n",
    "# Reducing computational overhead: By eliminating explicit loops and leveraging optimized implementations, vectorization and broadcasting can \n",
    "# significantly reduce computational overhead.\n",
    "\n",
    "# Improving memory access patterns: NumPy's memory layout and optimized algorithms can improve memory access patterns, leading to faster execution \n",
    "# times.\n",
    "\n",
    "# Simplifying code: Vectorized and broadcasting operations often result in more concise and readable code, making it easier to write and maintain."
   ]
  },
  {
   "cell_type": "code",
   "execution_count": null,
   "id": "c23fafb3-7909-4803-b934-f06ab6b5566f",
   "metadata": {},
   "outputs": [],
   "source": []
  },
  {
   "cell_type": "code",
   "execution_count": 77,
   "id": "29a247b8-4f86-4c0f-ace0-83d72276ac59",
   "metadata": {},
   "outputs": [],
   "source": [
    "# PRACTICAL QUESTION:"
   ]
  },
  {
   "cell_type": "code",
   "execution_count": 79,
   "id": "ae519286-fe0e-4faf-9ae1-aca1ea644198",
   "metadata": {},
   "outputs": [],
   "source": [
    "# 1. Create a 3x3 NumPy array with random integers between 1 and 100. Then, interchange its rows and columns."
   ]
  },
  {
   "cell_type": "code",
   "execution_count": 81,
   "id": "e052936e-a607-4488-9e0d-00367bb089d0",
   "metadata": {},
   "outputs": [
    {
     "name": "stdout",
     "output_type": "stream",
     "text": [
      "Original array:\n",
      "[[81 30 66]\n",
      " [97 22 65]\n",
      " [21 31 86]]\n",
      "Interchanged array:\n",
      "[[81 97 21]\n",
      " [30 22 31]\n",
      " [66 65 86]]\n"
     ]
    }
   ],
   "source": [
    "# Create a 3x3 NumPy array with random integers between 1 and 100. \n",
    "array = np.random.randint(1, 101, (3, 3))\n",
    "\n",
    "print(\"Original array:\")\n",
    "print(array)\n",
    "\n",
    "interchanged_array = array.T\n",
    "\n",
    "print(\"Interchanged array:\")\n",
    "print(interchanged_array)"
   ]
  },
  {
   "cell_type": "code",
   "execution_count": 83,
   "id": "1655112a-ab41-4954-97a0-5739cf0d79cb",
   "metadata": {},
   "outputs": [],
   "source": [
    "# Explanation for np.random.randint(1, 101, (3, 3)):\n",
    "# np.random.randint: This is a NumPy function used to generate random integers.\n",
    "\n",
    "# 1: This is the lower bound for the random integers. The generated numbers will be greater than or equal to 1.\n",
    "                          \n",
    "# 101: This is the upper bound for the random integers. The generated numbers will be less than 101.\n",
    "                            \n",
    "# (3, 3): This is the shape of the array you want to create. It specifies the number of rows and columns. In this case, you're creating a 3x3 \n",
    "# array."
   ]
  },
  {
   "cell_type": "code",
   "execution_count": 85,
   "id": "b3a21623-ee87-41a7-a6c4-daab0e0d2aba",
   "metadata": {},
   "outputs": [],
   "source": [
    "# 2. Generate a 1D NumPy array with 10 elements. Reshape it into a 2x5 array, then into a 5x2 array"
   ]
  },
  {
   "cell_type": "code",
   "execution_count": 87,
   "id": "dc5eb99d-8869-4da2-af0d-c964f00ca034",
   "metadata": {},
   "outputs": [
    {
     "name": "stdout",
     "output_type": "stream",
     "text": [
      "Original array: [0 1 2 3 4 5 6 7 8 9]\n",
      "Reshaped 2x5 array: [[0 1 2 3 4]\n",
      " [5 6 7 8 9]]\n",
      "Reshaped 5x2 array: [[0 1]\n",
      " [2 3]\n",
      " [4 5]\n",
      " [6 7]\n",
      " [8 9]]\n"
     ]
    }
   ],
   "source": [
    "array = np.arange(10)\n",
    "array_2x5 = array.reshape(2, 5)\n",
    "array_5x2 = array.reshape(5, 2)\n",
    "\n",
    "print(\"Original array:\", array)\n",
    "print(\"Reshaped 2x5 array:\", array_2x5)\n",
    "print(\"Reshaped 5x2 array:\", array_5x2)"
   ]
  },
  {
   "cell_type": "code",
   "execution_count": 89,
   "id": "643f3243-18ac-4a8e-9bd4-f73b5b9a087b",
   "metadata": {},
   "outputs": [],
   "source": [
    "# 3. Create a 4x4 NumPy array with random float values. Add a border of zeros around it, resulting in a 6x6 array."
   ]
  },
  {
   "cell_type": "code",
   "execution_count": 91,
   "id": "6e3654f1-345b-492c-a0bd-32dafb8fec72",
   "metadata": {},
   "outputs": [
    {
     "name": "stdout",
     "output_type": "stream",
     "text": [
      "Original array:\n",
      "[[0.29777824 0.87601595 0.65288149 0.21555792]\n",
      " [0.00133229 0.63717841 0.01686752 0.32589177]\n",
      " [0.93696177 0.23916302 0.02930147 0.18728765]\n",
      " [0.16223723 0.73257384 0.86356821 0.01731026]]\n",
      "Array with border:\n",
      "[[0.         0.         0.         0.         0.         0.        ]\n",
      " [0.         0.29777824 0.87601595 0.65288149 0.21555792 0.        ]\n",
      " [0.         0.00133229 0.63717841 0.01686752 0.32589177 0.        ]\n",
      " [0.         0.93696177 0.23916302 0.02930147 0.18728765 0.        ]\n",
      " [0.         0.16223723 0.73257384 0.86356821 0.01731026 0.        ]\n",
      " [0.         0.         0.         0.         0.         0.        ]]\n"
     ]
    }
   ],
   "source": [
    "array = np.random.rand(4, 4)\n",
    "\n",
    "# Add a border of zeros around it\n",
    "array_with_border = np.pad(array, pad_width=1, mode='constant', constant_values=0)\n",
    "\n",
    "print(\"Original array:\")\n",
    "print(array)\n",
    "\n",
    "print(\"Array with border:\")\n",
    "print(array_with_border)"
   ]
  },
  {
   "cell_type": "code",
   "execution_count": 93,
   "id": "f90e9527-07bf-46db-9490-fbb974840669",
   "metadata": {},
   "outputs": [],
   "source": [
    "# 4. Using NumPy, create an array of integers from 10 to 60 with a step of 5."
   ]
  },
  {
   "cell_type": "code",
   "execution_count": 95,
   "id": "dcb640ff-69fa-4576-82ff-3d7c266f3d94",
   "metadata": {},
   "outputs": [
    {
     "name": "stdout",
     "output_type": "stream",
     "text": [
      "[10 15 20 25 30 35 40 45 50 55 60]\n"
     ]
    }
   ],
   "source": [
    "array = np.arange(10, 61, 5)\n",
    "print(array)"
   ]
  },
  {
   "cell_type": "code",
   "execution_count": 97,
   "id": "a1445628-a40b-449d-a691-18087699428e",
   "metadata": {},
   "outputs": [],
   "source": [
    "# 5. Create a NumPy array of strings ['python', 'numpy', 'pandas']. Apply different case transformations (uppercase, lowercase, title case, etc.) \n",
    "# to each element."
   ]
  },
  {
   "cell_type": "code",
   "execution_count": 99,
   "id": "19e1eb15-860d-46f5-9dce-9d9475913871",
   "metadata": {},
   "outputs": [
    {
     "name": "stdout",
     "output_type": "stream",
     "text": [
      "Original Array:\n",
      "['python' 'PHP' 'java' 'C++']\n",
      "\n",
      "Capitalized:  ['Python' 'Php' 'Java' 'C++']\n",
      "Lowered:  ['python' 'php' 'java' 'c++']\n",
      "Uppered:  ['PYTHON' 'PHP' 'JAVA' 'C++']\n",
      "Titlecased:  ['Python' 'Php' 'Java' 'C++']\n"
     ]
    }
   ],
   "source": [
    "x = np.array(['python', 'PHP', 'java', 'C++'])\n",
    "\n",
    "print(\"Original Array:\")\n",
    "print(x)\n",
    "\n",
    "capitalized_case = np.char.capitalize(x)\n",
    "\n",
    "lowered_case = np.char.lower(x)\n",
    "\n",
    "uppered_case = np.char.upper(x)\n",
    "\n",
    "titlecased_case = np.char.title(x)\n",
    "\n",
    "print(\"\\nCapitalized: \", capitalized_case)\n",
    "print(\"Lowered: \", lowered_case)\n",
    "print(\"Uppered: \", uppered_case)\n",
    "print(\"Titlecased: \", titlecased_case) "
   ]
  },
  {
   "cell_type": "code",
   "execution_count": 101,
   "id": "27056ace-adef-4fee-9877-568979413d4b",
   "metadata": {},
   "outputs": [],
   "source": [
    "# 6. Generate a NumPy array of words. Insert a space between each character of every word in the array."
   ]
  },
  {
   "cell_type": "code",
   "execution_count": 103,
   "id": "9217f14e-c1ba-41b7-bfd4-761e9fe490e8",
   "metadata": {},
   "outputs": [
    {
     "name": "stdout",
     "output_type": "stream",
     "text": [
      "['a p p l e' 'b a n a n a' 'o r a n g e']\n"
     ]
    }
   ],
   "source": [
    "words = np.array(['apple', 'banana', 'orange'])\n",
    "spaced_words = np.char.join(' ', words)\n",
    "print(spaced_words)"
   ]
  },
  {
   "cell_type": "code",
   "execution_count": 105,
   "id": "e751e7f0-34a9-4348-a63b-a1223639233c",
   "metadata": {},
   "outputs": [],
   "source": [
    "# 7. Create two 2D NumPy arrays and perform element-wise addition, subtraction, multiplication, and division."
   ]
  },
  {
   "cell_type": "code",
   "execution_count": 107,
   "id": "99964888-78ed-4a77-8aec-a551dab8b3bd",
   "metadata": {},
   "outputs": [
    {
     "name": "stdout",
     "output_type": "stream",
     "text": [
      "Array 1:\n",
      "[[1 2]\n",
      " [3 4]]\n",
      "Array 2:\n",
      "[[5 6]\n",
      " [7 8]]\n",
      "Addition:\n",
      "[[ 6  8]\n",
      " [10 12]]\n",
      "Subtraction:\n",
      "[[-4 -4]\n",
      " [-4 -4]]\n",
      "Multiplication:\n",
      "[[ 5 12]\n",
      " [21 32]]\n",
      "Division:\n",
      "[[0.2        0.33333333]\n",
      " [0.42857143 0.5       ]]\n"
     ]
    }
   ],
   "source": [
    "array1 = np.array([[1, 2], [3, 4]])\n",
    "array2 = np.array([[5, 6], [7, 8]])\n",
    "\n",
    "addition = array1 + array2\n",
    "\n",
    "subtraction = array1 - array2\n",
    "\n",
    "multiplication = array1 * array2\n",
    "\n",
    "division = array1 / array2\n",
    "\n",
    "print(\"Array 1:\")\n",
    "print(array1)\n",
    "\n",
    "print(\"Array 2:\")\n",
    "print(array2)\n",
    "\n",
    "print(\"Addition:\")\n",
    "print(addition)\n",
    "\n",
    "print(\"Subtraction:\")\n",
    "print(subtraction)\n",
    "\n",
    "print(\"Multiplication:\")\n",
    "print(multiplication)\n",
    "\n",
    "print(\"Division:\")\n",
    "print(division)"
   ]
  },
  {
   "cell_type": "code",
   "execution_count": 109,
   "id": "c8933242-8f76-4ae6-aa4e-5388d23eff67",
   "metadata": {},
   "outputs": [],
   "source": [
    "# 8. Use NumPy to create a 5x5 identity matrix, then extract its diagonal elements."
   ]
  },
  {
   "cell_type": "code",
   "execution_count": 111,
   "id": "4b87cd7b-4744-41e7-b63a-bd4f8f7623ab",
   "metadata": {},
   "outputs": [
    {
     "name": "stdout",
     "output_type": "stream",
     "text": [
      "Identity matrix:\n",
      "[[1. 0. 0. 0. 0.]\n",
      " [0. 1. 0. 0. 0.]\n",
      " [0. 0. 1. 0. 0.]\n",
      " [0. 0. 0. 1. 0.]\n",
      " [0. 0. 0. 0. 1.]]\n",
      "Diagonal elements:\n",
      "[1. 1. 1. 1. 1.]\n"
     ]
    }
   ],
   "source": [
    "identity_matrix = np.eye(5)\n",
    "\n",
    "diagonal = identity_matrix.diagonal()\n",
    "\n",
    "print(\"Identity matrix:\")\n",
    "print(identity_matrix)\n",
    "\n",
    "print(\"Diagonal elements:\")\n",
    "print(diagonal)"
   ]
  },
  {
   "cell_type": "code",
   "execution_count": 113,
   "id": "942945e5-7070-4229-9db8-daee16c86022",
   "metadata": {},
   "outputs": [],
   "source": [
    "# 9. Generate a NumPy array of 100 random integers between 0 and 1000. Find and display all prime numbers in\n",
    "# this array."
   ]
  },
  {
   "cell_type": "code",
   "execution_count": 115,
   "id": "ccf47b0b-a58b-45eb-a5ec-dcc7ee901999",
   "metadata": {},
   "outputs": [
    {
     "name": "stdout",
     "output_type": "stream",
     "text": [
      "Random numbers: [885 425 471  19 618 595 335 389 670 629 809  57 420 755 200 590 760 732\n",
      " 421 316 324 830 576 628 554 252 923 115 905 447 577  49 163 495 302 705\n",
      " 998 581 732 273 292 636 823 220 405 336   8 337 751 701 520 180 745 337\n",
      "  53 196 165 169 717 673 279 323 608 936 939 609 553 545 345  25 237 811\n",
      " 826 358 634 361 398 226 825  88 736 237 655 147 247 356  47 141 548 898\n",
      " 887 874 958 917 833 359 153 778 338 951]\n",
      "Prime numbers: [19, 389, 809, 421, 577, 163, 823, 337, 751, 701, 337, 53, 673, 811, 47, 887, 359]\n"
     ]
    }
   ],
   "source": [
    "def is_prime(num):\n",
    "    if num <= 1:\n",
    "        return False\n",
    "    if num <= 3:\n",
    "        return True\n",
    "    if num % 2 == 0 or num % 3 == 0:\n",
    "        return False\n",
    "    i = 5\n",
    "    while i * i <= num:\n",
    "        if num % i == 0 or num % (i + 2) == 0:\n",
    "            return False\n",
    "        i += 6\n",
    "    return True\n",
    "\n",
    "random_numbers = np.random.randint(0, 1001, 100)\n",
    "\n",
    "prime_numbers = [num for num in random_numbers if is_prime(num)]\n",
    "\n",
    "print(\"Random numbers:\", random_numbers)\n",
    "print(\"Prime numbers:\", prime_numbers)"
   ]
  },
  {
   "cell_type": "code",
   "execution_count": 117,
   "id": "bcf11557-41f9-483a-b679-21c5f57b9361",
   "metadata": {},
   "outputs": [],
   "source": [
    "# 10. Create a NumPy array representing daily temperatures for a month. Calculate and display the weekly\n",
    "# averages."
   ]
  },
  {
   "cell_type": "code",
   "execution_count": 119,
   "id": "e17a48ce-16df-4466-a51c-4d46bf887d26",
   "metadata": {},
   "outputs": [
    {
     "name": "stdout",
     "output_type": "stream",
     "text": [
      "Daily temperatures: [72 75 73 78 80 82 85 87 86 84 83 81 79 77 76 74 73 75 77 79 81 83 85 87\n",
      " 89 91 90 88]\n",
      "Weekly averages: [77.85714286 82.42857143 76.42857143 87.57142857]\n"
     ]
    }
   ],
   "source": [
    "daily_temperatures = np.array([72, 75, 73, 78, 80, 82, 85, 87, 86, 84, 83, 81, 79, 77, 76, 74, 73, 75, 77, 79, 81, 83, 85, 87, 89, 91, 90, 88, 86, 84])\n",
    "\n",
    "# Remove the last 2 elements to make the total number of elements divisible by 7 since the total number of elements in the array is 30, which cannot be evenly divided into 28 elements (4 rows * 7 columns).\n",
    "daily_temperatures = daily_temperatures[:-2]\n",
    "\n",
    "# Calculate weekly averages\n",
    "weekly_averages = np.mean(daily_temperatures.reshape(4, 7), axis=1)\n",
    "\n",
    "print(\"Daily temperatures:\", daily_temperatures)\n",
    "print(\"Weekly averages:\", weekly_averages)"
   ]
  },
  {
   "cell_type": "code",
   "execution_count": null,
   "id": "7ac8c830-eade-404e-b8c9-9abd81daf720",
   "metadata": {},
   "outputs": [],
   "source": []
  }
 ],
 "metadata": {
  "kernelspec": {
   "display_name": "Python 3 (ipykernel)",
   "language": "python",
   "name": "python3"
  },
  "language_info": {
   "codemirror_mode": {
    "name": "ipython",
    "version": 3
   },
   "file_extension": ".py",
   "mimetype": "text/x-python",
   "name": "python",
   "nbconvert_exporter": "python",
   "pygments_lexer": "ipython3",
   "version": "3.12.4"
  }
 },
 "nbformat": 4,
 "nbformat_minor": 5
}
